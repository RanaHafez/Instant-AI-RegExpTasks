{
 "cells": [
  {
   "attachments": {},
   "cell_type": "markdown",
   "id": "ae107d25",
   "metadata": {},
   "source": [
    "# Project Create 3 lists from the file\n",
    "#### <li> Names list </li>\n",
    "#### <li> numbers list </li>\n",
    "#### <li> emails list </li>"
   ]
  },
  {
   "cell_type": "code",
   "execution_count": 6,
   "id": "7fc4a2c9",
   "metadata": {},
   "outputs": [],
   "source": [
    "# import statments\n",
    "import re"
   ]
  },
  {
   "cell_type": "code",
   "execution_count": 52,
   "id": "1787ea9b",
   "metadata": {},
   "outputs": [],
   "source": [
    "# opening the file and saving it to a string\n",
    "text_to_search = \"\"\n",
    "with open(\"./information.txt\") as file:\n",
    "    text_to_search = file.read()"
   ]
  },
  {
   "cell_type": "code",
   "execution_count": 53,
   "id": "7ac818e6",
   "metadata": {},
   "outputs": [
    {
     "name": "stdout",
     "output_type": "stream",
     "text": [
      "James \t1800801920 JamesSmith@gmail.com\n",
      "Christopher +44 2087599036 ChristopherAnderson@gmail.edu.sa\n",
      "Ronald \t+1 8004444444 RonaldClark@gmail.com\n",
      "Mary +1 2136210002 MaryWright@gmail.com\n",
      "Michelle +12 136210002 MichelleJohnson@gmail.com\n",
      "Nancy +1 2136210002 NancyWilliams@hotmail.com\n"
     ]
    }
   ],
   "source": [
    "print(text_to_search)"
   ]
  },
  {
   "cell_type": "code",
   "execution_count": 54,
   "id": "df6065d2",
   "metadata": {},
   "outputs": [
    {
     "name": "stdout",
     "output_type": "stream",
     "text": [
      "<class 'str'>\n"
     ]
    }
   ],
   "source": [
    "print(type(text_to_search))"
   ]
  },
  {
   "cell_type": "code",
   "execution_count": 68,
   "id": "6e4d8309",
   "metadata": {},
   "outputs": [
    {
     "name": "stdout",
     "output_type": "stream",
     "text": [
      "<re.Match object; span=(0, 6), match='James '>\n",
      "<re.Match object; span=(39, 51), match='Christopher '>\n",
      "<re.Match object; span=(99, 106), match='Ronald '>\n",
      "<re.Match object; span=(143, 148), match='Mary '>\n",
      "<re.Match object; span=(183, 192), match='Michelle '>\n",
      "<re.Match object; span=(232, 238), match='Nancy '>\n",
      "Names: \n",
      "['James', 'Christopher', 'Ronald', 'Mary', 'Michelle', 'Nancy']\n"
     ]
    }
   ],
   "source": [
    "names = []\n",
    "pattern = re.compile(r\"[A-Z][a-z]+\\s\")\n",
    "matches = pattern.finditer(text_to_search)\n",
    "\n",
    "for match in matches:\n",
    "    start = match.span()[0]\n",
    "    end = match.span()[1]\n",
    "\n",
    "    name = text_to_search[start:end].strip()\n",
    "    names.append(name)\n",
    "\n",
    "    print(match)\n",
    "    \n",
    "print(\"Names: \")\n",
    "print(names)"
   ]
  },
  {
   "cell_type": "code",
   "execution_count": 57,
   "id": "07a3c287",
   "metadata": {},
   "outputs": [
    {
     "name": "stdout",
     "output_type": "stream",
     "text": [
      "['1800801920', '+44 2087599036', '+1 8004444444', '+1 2136210002', '+12 136210002', '+1 2136210002']\n"
     ]
    }
   ],
   "source": [
    "numbers = []\n",
    "pattern = re.compile(r\"[+]?\\d+\\s?\\d+\")\n",
    "matches = pattern.finditer(text_to_search)\n",
    "\n",
    "for match in matches:\n",
    "    end = match.span()[1]\n",
    "    start = match.span()[0]\n",
    "\n",
    "    numbers.append(text_to_search[start:end])\n",
    "print(numbers)"
   ]
  },
  {
   "cell_type": "code",
   "execution_count": 62,
   "id": "083b1956",
   "metadata": {},
   "outputs": [],
   "source": [
    "emails = []\n",
    "email_pattern = re.compile(\"[0-9a-zA-Z+_~-]+@[a-zA-Z]+\\.(com|edu|net)\\.?(\\w+)?\")\n",
    "matches = email_pattern.finditer(text_to_search)\n",
    "for m in matches:\n",
    "    start = m.span()[0]\n",
    "    end = m.span()[1]\n",
    "\n",
    "    email = text_to_search[start: end]\n",
    "    emails.append(email)"
   ]
  },
  {
   "cell_type": "code",
   "execution_count": 63,
   "id": "636c0462",
   "metadata": {},
   "outputs": [
    {
     "data": {
      "text/plain": [
       "['James', 'Christopher', 'Ronald', 'Mary', 'Michelle', 'Nancy']"
      ]
     },
     "execution_count": 63,
     "metadata": {},
     "output_type": "execute_result"
    }
   ],
   "source": [
    "names"
   ]
  },
  {
   "cell_type": "code",
   "execution_count": 64,
   "id": "eef4d6e6",
   "metadata": {},
   "outputs": [
    {
     "data": {
      "text/plain": [
       "['1800801920',\n",
       " '+44 2087599036',\n",
       " '+1 8004444444',\n",
       " '+1 2136210002',\n",
       " '+12 136210002',\n",
       " '+1 2136210002']"
      ]
     },
     "execution_count": 64,
     "metadata": {},
     "output_type": "execute_result"
    }
   ],
   "source": [
    "numbers"
   ]
  },
  {
   "cell_type": "code",
   "execution_count": 65,
   "id": "7ef7d142",
   "metadata": {},
   "outputs": [
    {
     "data": {
      "text/plain": [
       "['JamesSmith@gmail.com',\n",
       " 'ChristopherAnderson@gmail.edu.sa',\n",
       " 'RonaldClark@gmail.com',\n",
       " 'MaryWright@gmail.com',\n",
       " 'MichelleJohnson@gmail.com',\n",
       " 'NancyWilliams@hotmail.com']"
      ]
     },
     "execution_count": 65,
     "metadata": {},
     "output_type": "execute_result"
    }
   ],
   "source": [
    "emails"
   ]
  },
  {
   "attachments": {},
   "cell_type": "markdown",
   "id": "3b842394",
   "metadata": {},
   "source": [
    "## Rana Hafez(2023)"
   ]
  },
  {
   "attachments": {},
   "cell_type": "markdown",
   "id": "1d2bdd24",
   "metadata": {},
   "source": []
  }
 ],
 "metadata": {
  "kernelspec": {
   "display_name": "Python 3",
   "language": "python",
   "name": "python3"
  },
  "language_info": {
   "codemirror_mode": {
    "name": "ipython",
    "version": 3
   },
   "file_extension": ".py",
   "mimetype": "text/x-python",
   "name": "python",
   "nbconvert_exporter": "python",
   "pygments_lexer": "ipython3",
   "version": "3.10.4"
  }
 },
 "nbformat": 4,
 "nbformat_minor": 5
}
